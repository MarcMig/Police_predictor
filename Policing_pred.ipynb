{
  "nbformat": 4,
  "nbformat_minor": 0,
  "metadata": {
    "colab": {
      "name": "Untitled0.ipynb",
      "provenance": [],
      "collapsed_sections": []
    },
    "kernelspec": {
      "name": "python3",
      "display_name": "Python 3"
    },
    "language_info": {
      "name": "python"
    }
  },
  "cells": [
    {
      "cell_type": "code",
      "metadata": {
        "colab": {
          "base_uri": "https://localhost:8080/"
        },
        "id": "SKpfCjD0fN5E",
        "outputId": "42686114-5dea-411c-b736-82c3eb8b4eaf"
      },
      "source": [
        "!pip install eli5"
      ],
      "execution_count": 3,
      "outputs": [
        {
          "output_type": "stream",
          "text": [
            "Collecting eli5\n",
            "\u001b[?25l  Downloading https://files.pythonhosted.org/packages/d1/54/04cab6e1c0ae535bec93f795d8403fdf6caf66fa5a6512263202dbb14ea6/eli5-0.11.0-py2.py3-none-any.whl (106kB)\n",
            "\r\u001b[K     |███                             | 10kB 18.9MB/s eta 0:00:01\r\u001b[K     |██████▏                         | 20kB 21.2MB/s eta 0:00:01\r\u001b[K     |█████████▎                      | 30kB 11.5MB/s eta 0:00:01\r\u001b[K     |████████████▍                   | 40kB 9.0MB/s eta 0:00:01\r\u001b[K     |███████████████▌                | 51kB 7.0MB/s eta 0:00:01\r\u001b[K     |██████████████████▌             | 61kB 7.4MB/s eta 0:00:01\r\u001b[K     |█████████████████████▋          | 71kB 7.5MB/s eta 0:00:01\r\u001b[K     |████████████████████████▊       | 81kB 7.7MB/s eta 0:00:01\r\u001b[K     |███████████████████████████▉    | 92kB 8.0MB/s eta 0:00:01\r\u001b[K     |███████████████████████████████ | 102kB 8.2MB/s eta 0:00:01\r\u001b[K     |████████████████████████████████| 112kB 8.2MB/s \n",
            "\u001b[?25hRequirement already satisfied: attrs>16.0.0 in /usr/local/lib/python3.7/dist-packages (from eli5) (20.3.0)\n",
            "Requirement already satisfied: graphviz in /usr/local/lib/python3.7/dist-packages (from eli5) (0.10.1)\n",
            "Requirement already satisfied: jinja2 in /usr/local/lib/python3.7/dist-packages (from eli5) (2.11.3)\n",
            "Requirement already satisfied: scipy in /usr/local/lib/python3.7/dist-packages (from eli5) (1.4.1)\n",
            "Requirement already satisfied: tabulate>=0.7.7 in /usr/local/lib/python3.7/dist-packages (from eli5) (0.8.9)\n",
            "Requirement already satisfied: numpy>=1.9.0 in /usr/local/lib/python3.7/dist-packages (from eli5) (1.19.5)\n",
            "Requirement already satisfied: six in /usr/local/lib/python3.7/dist-packages (from eli5) (1.15.0)\n",
            "Requirement already satisfied: scikit-learn>=0.20 in /usr/local/lib/python3.7/dist-packages (from eli5) (0.22.2.post1)\n",
            "Requirement already satisfied: MarkupSafe>=0.23 in /usr/local/lib/python3.7/dist-packages (from jinja2->eli5) (1.1.1)\n",
            "Requirement already satisfied: joblib>=0.11 in /usr/local/lib/python3.7/dist-packages (from scikit-learn>=0.20->eli5) (1.0.1)\n",
            "Installing collected packages: eli5\n",
            "Successfully installed eli5-0.11.0\n"
          ],
          "name": "stdout"
        }
      ]
    },
    {
      "cell_type": "code",
      "metadata": {
        "id": "pMFpM1FMIGMZ",
        "colab": {
          "base_uri": "https://localhost:8080/"
        },
        "outputId": "14b94603-11d0-4ce4-b29b-84b6859118a6"
      },
      "source": [
        "import pandas as pd\n",
        "import numpy as np\n",
        "import missingno as msno\n",
        "import eli5\n",
        "from sklearn.model_selection import train_test_split\n",
        "from sklearn.linear_model import LogisticRegression\n",
        "from sklearn.preprocessing import LabelEncoder\n",
        "from sklearn.preprocessing import MinMaxScaler\n",
        "from eli5.sklearn import PermutationImportance\n",
        "from sklearn.metrics import classification_report\n",
        "from sklearn.metrics import plot_roc_curve\n",
        "from sklearn.metrics import plot_confusion_matrix\n",
        "from sklearn.metrics import confusion_matrix\n",
        "from sklearn.metrics import roc_auc_score\n",
        "from sklearn.metrics import auc\n",
        "from sklearn.metrics import roc_curve\n",
        "from sklearn.model_selection import RepeatedStratifiedKFold\n",
        "from sklearn.model_selection import GridSearchCV\n",
        "from sklearn.tree import DecisionTreeClassifier"
      ],
      "execution_count": 4,
      "outputs": [
        {
          "output_type": "stream",
          "text": [
            "/usr/local/lib/python3.7/dist-packages/sklearn/utils/deprecation.py:144: FutureWarning: The sklearn.feature_selection.base module is  deprecated in version 0.22 and will be removed in version 0.24. The corresponding classes / functions should instead be imported from sklearn.feature_selection. Anything that cannot be imported from sklearn.feature_selection is now part of the private API.\n",
            "  warnings.warn(message, FutureWarning)\n"
          ],
          "name": "stderr"
        }
      ]
    },
    {
      "cell_type": "code",
      "metadata": {
        "id": "Ft49yRMaInV_"
      },
      "source": [
        "df_metro = pd.read_csv('/content/drive/MyDrive/london_metro_2020.csv',index_col=0)\n"
      ],
      "execution_count": 5,
      "outputs": []
    },
    {
      "cell_type": "markdown",
      "metadata": {
        "id": "nTsxPfl50jrV"
      },
      "source": [
        "Let's see the outcomes of the interactions and their frequency, we've grouped the outcomes into two categories: positive (case is investigated or goes to court) and negative (case not pursued or no subject identified)."
      ]
    },
    {
      "cell_type": "code",
      "metadata": {
        "colab": {
          "base_uri": "https://localhost:8080/",
          "height": 421
        },
        "id": "WT7FAf8zhdvh",
        "outputId": "ad97172b-e18f-4b8c-91fd-1b0b914ac914"
      },
      "source": [
        "df_metro.groupby('Last outcome category').nunique()"
      ],
      "execution_count": 5,
      "outputs": [
        {
          "output_type": "execute_result",
          "data": {
            "text/html": [
              "<div>\n",
              "<style scoped>\n",
              "    .dataframe tbody tr th:only-of-type {\n",
              "        vertical-align: middle;\n",
              "    }\n",
              "\n",
              "    .dataframe tbody tr th {\n",
              "        vertical-align: top;\n",
              "    }\n",
              "\n",
              "    .dataframe thead th {\n",
              "        text-align: right;\n",
              "    }\n",
              "</style>\n",
              "<table border=\"1\" class=\"dataframe\">\n",
              "  <thead>\n",
              "    <tr style=\"text-align: right;\">\n",
              "      <th></th>\n",
              "      <th>Crime ID</th>\n",
              "      <th>Month</th>\n",
              "      <th>Reported by</th>\n",
              "      <th>Falls within</th>\n",
              "      <th>Longitude</th>\n",
              "      <th>Latitude</th>\n",
              "      <th>Location</th>\n",
              "      <th>LSOA code</th>\n",
              "      <th>LSOA name</th>\n",
              "      <th>Crime type</th>\n",
              "      <th>Context</th>\n",
              "      <th>Borough</th>\n",
              "      <th>IMD</th>\n",
              "      <th>Outcomes</th>\n",
              "    </tr>\n",
              "    <tr>\n",
              "      <th>Last outcome category</th>\n",
              "      <th></th>\n",
              "      <th></th>\n",
              "      <th></th>\n",
              "      <th></th>\n",
              "      <th></th>\n",
              "      <th></th>\n",
              "      <th></th>\n",
              "      <th></th>\n",
              "      <th></th>\n",
              "      <th></th>\n",
              "      <th></th>\n",
              "      <th></th>\n",
              "      <th></th>\n",
              "      <th></th>\n",
              "    </tr>\n",
              "  </thead>\n",
              "  <tbody>\n",
              "    <tr>\n",
              "      <th>Awaiting court outcome</th>\n",
              "      <td>19546</td>\n",
              "      <td>12</td>\n",
              "      <td>1</td>\n",
              "      <td>1</td>\n",
              "      <td>12183</td>\n",
              "      <td>12018</td>\n",
              "      <td>9032</td>\n",
              "      <td>4104</td>\n",
              "      <td>4104</td>\n",
              "      <td>13</td>\n",
              "      <td>0</td>\n",
              "      <td>33</td>\n",
              "      <td>3885</td>\n",
              "      <td>1</td>\n",
              "    </tr>\n",
              "    <tr>\n",
              "      <th>Court result unavailable</th>\n",
              "      <td>20594</td>\n",
              "      <td>7</td>\n",
              "      <td>1</td>\n",
              "      <td>1</td>\n",
              "      <td>12365</td>\n",
              "      <td>12202</td>\n",
              "      <td>8975</td>\n",
              "      <td>4135</td>\n",
              "      <td>4135</td>\n",
              "      <td>13</td>\n",
              "      <td>0</td>\n",
              "      <td>33</td>\n",
              "      <td>3912</td>\n",
              "      <td>1</td>\n",
              "    </tr>\n",
              "    <tr>\n",
              "      <th>Formal action is not in the public interest</th>\n",
              "      <td>3</td>\n",
              "      <td>3</td>\n",
              "      <td>1</td>\n",
              "      <td>1</td>\n",
              "      <td>3</td>\n",
              "      <td>3</td>\n",
              "      <td>3</td>\n",
              "      <td>3</td>\n",
              "      <td>3</td>\n",
              "      <td>3</td>\n",
              "      <td>0</td>\n",
              "      <td>3</td>\n",
              "      <td>3</td>\n",
              "      <td>1</td>\n",
              "    </tr>\n",
              "    <tr>\n",
              "      <th>Investigation complete; no suspect identified</th>\n",
              "      <td>553729</td>\n",
              "      <td>12</td>\n",
              "      <td>1</td>\n",
              "      <td>1</td>\n",
              "      <td>53504</td>\n",
              "      <td>50943</td>\n",
              "      <td>33416</td>\n",
              "      <td>4831</td>\n",
              "      <td>4831</td>\n",
              "      <td>13</td>\n",
              "      <td>0</td>\n",
              "      <td>33</td>\n",
              "      <td>4537</td>\n",
              "      <td>1</td>\n",
              "    </tr>\n",
              "    <tr>\n",
              "      <th>Local resolution</th>\n",
              "      <td>29490</td>\n",
              "      <td>12</td>\n",
              "      <td>1</td>\n",
              "      <td>1</td>\n",
              "      <td>15616</td>\n",
              "      <td>15360</td>\n",
              "      <td>11133</td>\n",
              "      <td>4337</td>\n",
              "      <td>4337</td>\n",
              "      <td>13</td>\n",
              "      <td>0</td>\n",
              "      <td>33</td>\n",
              "      <td>4103</td>\n",
              "      <td>1</td>\n",
              "    </tr>\n",
              "    <tr>\n",
              "      <th>Offender given a caution</th>\n",
              "      <td>5874</td>\n",
              "      <td>12</td>\n",
              "      <td>1</td>\n",
              "      <td>1</td>\n",
              "      <td>4943</td>\n",
              "      <td>4906</td>\n",
              "      <td>3849</td>\n",
              "      <td>2795</td>\n",
              "      <td>2795</td>\n",
              "      <td>13</td>\n",
              "      <td>0</td>\n",
              "      <td>32</td>\n",
              "      <td>2702</td>\n",
              "      <td>1</td>\n",
              "    </tr>\n",
              "    <tr>\n",
              "      <th>Offender given a drugs possession warning</th>\n",
              "      <td>336</td>\n",
              "      <td>12</td>\n",
              "      <td>1</td>\n",
              "      <td>1</td>\n",
              "      <td>335</td>\n",
              "      <td>335</td>\n",
              "      <td>291</td>\n",
              "      <td>307</td>\n",
              "      <td>307</td>\n",
              "      <td>3</td>\n",
              "      <td>0</td>\n",
              "      <td>32</td>\n",
              "      <td>307</td>\n",
              "      <td>1</td>\n",
              "    </tr>\n",
              "    <tr>\n",
              "      <th>Offender given penalty notice</th>\n",
              "      <td>6955</td>\n",
              "      <td>12</td>\n",
              "      <td>1</td>\n",
              "      <td>1</td>\n",
              "      <td>5327</td>\n",
              "      <td>5286</td>\n",
              "      <td>4122</td>\n",
              "      <td>2622</td>\n",
              "      <td>2622</td>\n",
              "      <td>9</td>\n",
              "      <td>0</td>\n",
              "      <td>33</td>\n",
              "      <td>2539</td>\n",
              "      <td>1</td>\n",
              "    </tr>\n",
              "    <tr>\n",
              "      <th>Status update unavailable</th>\n",
              "      <td>90779</td>\n",
              "      <td>9</td>\n",
              "      <td>1</td>\n",
              "      <td>1</td>\n",
              "      <td>33985</td>\n",
              "      <td>32955</td>\n",
              "      <td>22835</td>\n",
              "      <td>4824</td>\n",
              "      <td>4824</td>\n",
              "      <td>13</td>\n",
              "      <td>0</td>\n",
              "      <td>33</td>\n",
              "      <td>4533</td>\n",
              "      <td>1</td>\n",
              "    </tr>\n",
              "    <tr>\n",
              "      <th>Suspect charged as part of another case</th>\n",
              "      <td>5</td>\n",
              "      <td>4</td>\n",
              "      <td>1</td>\n",
              "      <td>1</td>\n",
              "      <td>5</td>\n",
              "      <td>5</td>\n",
              "      <td>5</td>\n",
              "      <td>5</td>\n",
              "      <td>5</td>\n",
              "      <td>3</td>\n",
              "      <td>0</td>\n",
              "      <td>4</td>\n",
              "      <td>5</td>\n",
              "      <td>1</td>\n",
              "    </tr>\n",
              "    <tr>\n",
              "      <th>Under investigation</th>\n",
              "      <td>21048</td>\n",
              "      <td>3</td>\n",
              "      <td>1</td>\n",
              "      <td>1</td>\n",
              "      <td>14125</td>\n",
              "      <td>13939</td>\n",
              "      <td>10368</td>\n",
              "      <td>4424</td>\n",
              "      <td>4424</td>\n",
              "      <td>13</td>\n",
              "      <td>0</td>\n",
              "      <td>33</td>\n",
              "      <td>4179</td>\n",
              "      <td>1</td>\n",
              "    </tr>\n",
              "  </tbody>\n",
              "</table>\n",
              "</div>"
            ],
            "text/plain": [
              "                                               Crime ID  Month  ...   IMD  Outcomes\n",
              "Last outcome category                                           ...                \n",
              "Awaiting court outcome                            19546     12  ...  3885         1\n",
              "Court result unavailable                          20594      7  ...  3912         1\n",
              "Formal action is not in the public interest           3      3  ...     3         1\n",
              "Investigation complete; no suspect identified    553729     12  ...  4537         1\n",
              "Local resolution                                  29490     12  ...  4103         1\n",
              "Offender given a caution                           5874     12  ...  2702         1\n",
              "Offender given a drugs possession warning           336     12  ...   307         1\n",
              "Offender given penalty notice                      6955     12  ...  2539         1\n",
              "Status update unavailable                         90779      9  ...  4533         1\n",
              "Suspect charged as part of another case               5      4  ...     5         1\n",
              "Under investigation                               21048      3  ...  4179         1\n",
              "\n",
              "[11 rows x 14 columns]"
            ]
          },
          "metadata": {
            "tags": []
          },
          "execution_count": 5
        }
      ]
    },
    {
      "cell_type": "markdown",
      "metadata": {
        "id": "3kRktYFB02C-"
      },
      "source": [
        "Our model will predict the outcomes based on the Month, Crime type, Borough and IMD. "
      ]
    },
    {
      "cell_type": "code",
      "metadata": {
        "id": "8MmtItbusDUD"
      },
      "source": [
        "X = df_metro[['Month', 'Crime type', 'Borough', 'IMD']].copy()\n",
        "y = df_metro['Outcomes'].copy()\n",
        "\n",
        "le = LabelEncoder()\n",
        "\n",
        "# We need to encode the categorical variables into our predictors matrix\n",
        "\n",
        "catColumns = ['Month', 'Crime type', 'Borough']\n",
        "\n",
        "def categorise(X, catColumns):\n",
        "\n",
        "  for col in catColumns:\n",
        "      n = len(X[col].unique())\n",
        "      if (n > 2):\n",
        "        Y = pd.get_dummies(X[col])\n",
        "        Y = Y.drop(Y.columns[0], axis=1)\n",
        "        X[Y.columns] = Y\n",
        "        X.drop(col, axis=1, inplace=True)  # drop the original categorical variable (optional)\n",
        "      else:\n",
        "        le.fit(X[col])\n",
        "        X[col] = le.transform(X[col])\n",
        "\n",
        "categorise(X, catColumns)\n",
        "\n"
      ],
      "execution_count": 7,
      "outputs": []
    },
    {
      "cell_type": "markdown",
      "metadata": {
        "id": "vygKtLrT2M55"
      },
      "source": [
        "We're going to use Logistic Regression as a baseline model so we need to scale the IMD variable so that it's the same size as the others."
      ]
    },
    {
      "cell_type": "code",
      "metadata": {
        "id": "YqJaIfsJX2Js"
      },
      "source": [
        "def scale(X):\n",
        "  scaler = MinMaxScaler()\n",
        "  X[X.columns] = scaler.fit_transform(X)\n",
        "\n",
        "scale(X)"
      ],
      "execution_count": 8,
      "outputs": []
    },
    {
      "cell_type": "code",
      "metadata": {
        "id": "6vtuVkQd3-9w"
      },
      "source": [
        "def split(X,y):\n",
        "  Xtrain, Xtest, ytrain, ytest = train_test_split(X, y, train_size = 0.6)\n",
        "  Xtest, XVal, ytest, yval = train_test_split(Xtest, ytest, train_size = 0.5)\n",
        "  return Xtrain, Xtest, XVal, ytrain, ytest, yval\n",
        "\n",
        "Xtrain, Xtest, XVal, ytrain, ytest, yval = split(X, y)"
      ],
      "execution_count": 9,
      "outputs": []
    },
    {
      "cell_type": "code",
      "metadata": {
        "colab": {
          "base_uri": "https://localhost:8080/"
        },
        "id": "ot0McjEkzXQ7",
        "outputId": "a6f900a5-d87d-4a7f-8f4b-1449b2af95ae"
      },
      "source": [
        "model = LogisticRegression()\n",
        "\n",
        "model.fit(Xtrain, ytrain)"
      ],
      "execution_count": 33,
      "outputs": [
        {
          "output_type": "stream",
          "text": [
            "/usr/local/lib/python3.7/dist-packages/sklearn/linear_model/_logistic.py:940: ConvergenceWarning: lbfgs failed to converge (status=1):\n",
            "STOP: TOTAL NO. of ITERATIONS REACHED LIMIT.\n",
            "\n",
            "Increase the number of iterations (max_iter) or scale the data as shown in:\n",
            "    https://scikit-learn.org/stable/modules/preprocessing.html\n",
            "Please also refer to the documentation for alternative solver options:\n",
            "    https://scikit-learn.org/stable/modules/linear_model.html#logistic-regression\n",
            "  extra_warning_msg=_LOGISTIC_SOLVER_CONVERGENCE_MSG)\n"
          ],
          "name": "stderr"
        },
        {
          "output_type": "execute_result",
          "data": {
            "text/plain": [
              "LogisticRegression(C=1.0, class_weight=None, dual=False, fit_intercept=True,\n",
              "                   intercept_scaling=1, l1_ratio=None, max_iter=100,\n",
              "                   multi_class='auto', n_jobs=None, penalty='l2',\n",
              "                   random_state=None, solver='lbfgs', tol=0.0001, verbose=0,\n",
              "                   warm_start=False)"
            ]
          },
          "metadata": {
            "tags": []
          },
          "execution_count": 33
        }
      ]
    },
    {
      "cell_type": "code",
      "metadata": {
        "colab": {
          "base_uri": "https://localhost:8080/",
          "height": 558
        },
        "id": "l4bCYgfogOVG",
        "outputId": "749ec022-c91d-4cf4-9056-50d53ceb0987"
      },
      "source": [
        "plot_roc_curve(model, XVal, yval)\n",
        "plot_confusion_matrix(model, XVal, yval)"
      ],
      "execution_count": 34,
      "outputs": [
        {
          "output_type": "execute_result",
          "data": {
            "text/plain": [
              "<sklearn.metrics._plot.confusion_matrix.ConfusionMatrixDisplay at 0x7f9dafa4de10>"
            ]
          },
          "metadata": {
            "tags": []
          },
          "execution_count": 34
        },
        {
          "output_type": "display_data",
          "data": {
            "image/png": "[encoded data removed]",
            "text/plain": [
              "<Figure size 432x288 with 1 Axes>"
            ]
          },
          "metadata": {
            "tags": [],
            "needs_background": "light"
          }
        },
        {
          "output_type": "display_data",
          "data": {
            "image/png": "[encoded data removed]",
            "text/plain": [
              "<Figure size 432x288 with 2 Axes>"
            ]
          },
          "metadata": {
            "tags": [],
            "needs_background": "light"
          }
        }
      ]
    },
    {
      "cell_type": "markdown",
      "metadata": {
        "id": "maEorhrm3tnD"
      },
      "source": [
        "Not terrible for a baseline model, quite unbalanced but the predictability is alright considering. Let's see which predictors actually pulling their weight."
      ]
    },
    {
      "cell_type": "code",
      "metadata": {
        "colab": {
          "base_uri": "https://localhost:8080/",
          "height": 483
        },
        "id": "-CeyronBqze9",
        "outputId": "1a2b7fc3-4306-44bf-acc0-8b846fe51679"
      },
      "source": [
        "# Drop 'Bourough'\n",
        "\n",
        "predictors = ['Month', 'Crime type', 'IMD']\n",
        "catColumns = ['Month', 'Crime type']\n",
        "\n",
        "X = df_metro[predictors]\n",
        "categorise(X, catColumns)\n",
        "scale(X)\n",
        "Xtrain, Xtest, XVal, ytrain, ytest, yval = split(X, y)\n",
        "\n",
        "model.fit(Xtrain, ytrain)\n",
        "plot_roc_curve(model, XVal, yval)"
      ],
      "execution_count": 39,
      "outputs": [
        {
          "output_type": "stream",
          "text": [
            "/usr/local/lib/python3.7/dist-packages/pandas/core/frame.py:3069: SettingWithCopyWarning: \n",
            "A value is trying to be set on a copy of a slice from a DataFrame.\n",
            "Try using .loc[row_indexer,col_indexer] = value instead\n",
            "\n",
            "See the caveats in the documentation: https://pandas.pydata.org/pandas-docs/stable/user_guide/indexing.html#returning-a-view-versus-a-copy\n",
            "  self[k1] = value[k2]\n",
            "/usr/local/lib/python3.7/dist-packages/pandas/core/frame.py:4174: SettingWithCopyWarning: \n",
            "A value is trying to be set on a copy of a slice from a DataFrame\n",
            "\n",
            "See the caveats in the documentation: https://pandas.pydata.org/pandas-docs/stable/user_guide/indexing.html#returning-a-view-versus-a-copy\n",
            "  errors=errors,\n"
          ],
          "name": "stderr"
        },
        {
          "output_type": "execute_result",
          "data": {
            "text/plain": [
              "<sklearn.metrics._plot.roc_curve.RocCurveDisplay at 0x7f9da716b750>"
            ]
          },
          "metadata": {
            "tags": []
          },
          "execution_count": 39
        },
        {
          "output_type": "display_data",
          "data": {
            "image/png": "[encoded data removed]",
            "text/plain": [
              "<Figure size 432x288 with 1 Axes>"
            ]
          },
          "metadata": {
            "tags": [],
            "needs_background": "light"
          }
        }
      ]
    },
    {
      "cell_type": "code",
      "metadata": {
        "colab": {
          "base_uri": "https://localhost:8080/",
          "height": 483
        },
        "id": "ofyTH2J6u-Gr",
        "outputId": "1a705476-fe51-4648-d07c-8ab4dfa253a8"
      },
      "source": [
        "# Drop 'IMD'\n",
        "\n",
        "predictors = ['Month', 'Crime type']\n",
        "catColumns = ['Month', 'Crime type']\n",
        "\n",
        "X = df_metro[predictors]\n",
        "categorise(X, catColumns)\n",
        "scale(X)\n",
        "Xtrain, Xtest, XVal, ytrain, ytest, yval = split(X, y)\n",
        "\n",
        "model.fit(Xtrain, ytrain)\n",
        "plot_roc_curve(model, XVal, yval)"
      ],
      "execution_count": 45,
      "outputs": [
        {
          "output_type": "stream",
          "text": [
            "/usr/local/lib/python3.7/dist-packages/pandas/core/frame.py:3069: SettingWithCopyWarning: \n",
            "A value is trying to be set on a copy of a slice from a DataFrame.\n",
            "Try using .loc[row_indexer,col_indexer] = value instead\n",
            "\n",
            "See the caveats in the documentation: https://pandas.pydata.org/pandas-docs/stable/user_guide/indexing.html#returning-a-view-versus-a-copy\n",
            "  self[k1] = value[k2]\n",
            "/usr/local/lib/python3.7/dist-packages/pandas/core/frame.py:4174: SettingWithCopyWarning: \n",
            "A value is trying to be set on a copy of a slice from a DataFrame\n",
            "\n",
            "See the caveats in the documentation: https://pandas.pydata.org/pandas-docs/stable/user_guide/indexing.html#returning-a-view-versus-a-copy\n",
            "  errors=errors,\n"
          ],
          "name": "stderr"
        },
        {
          "output_type": "execute_result",
          "data": {
            "text/plain": [
              "<sklearn.metrics._plot.roc_curve.RocCurveDisplay at 0x7f9dafe49f10>"
            ]
          },
          "metadata": {
            "tags": []
          },
          "execution_count": 45
        },
        {
          "output_type": "display_data",
          "data": {
            "image/png": "[encoded data removed]",
            "text/plain": [
              "<Figure size 432x288 with 1 Axes>"
            ]
          },
          "metadata": {
            "tags": [],
            "needs_background": "light"
          }
        }
      ]
    },
    {
      "cell_type": "code",
      "metadata": {
        "colab": {
          "base_uri": "https://localhost:8080/",
          "height": 687
        },
        "id": "PpS-F4CivqSR",
        "outputId": "9c1c2140-9d91-4ab9-d1f6-78aef2bc618a"
      },
      "source": [
        "# Drop 'Month'\n",
        "\n",
        "predictors = ['Crime type']\n",
        "catColumns = ['Crime type']\n",
        "\n",
        "X = df_metro[predictors]\n",
        "categorise(X, catColumns)\n",
        "scale(X)\n",
        "Xtrain, Xtest, XVal, ytrain, ytest, yval = split(X, y)\n",
        "\n",
        "model.fit(Xtrain, ytrain)\n",
        "plot_roc_curve(model, XVal, yval)"
      ],
      "execution_count": 46,
      "outputs": [
        {
          "output_type": "stream",
          "text": [
            "/usr/local/lib/python3.7/dist-packages/pandas/core/frame.py:3069: SettingWithCopyWarning: \n",
            "A value is trying to be set on a copy of a slice from a DataFrame.\n",
            "Try using .loc[row_indexer,col_indexer] = value instead\n",
            "\n",
            "See the caveats in the documentation: https://pandas.pydata.org/pandas-docs/stable/user_guide/indexing.html#returning-a-view-versus-a-copy\n",
            "  self[k1] = value[k2]\n",
            "/usr/local/lib/python3.7/dist-packages/pandas/core/frame.py:4174: SettingWithCopyWarning: \n",
            "A value is trying to be set on a copy of a slice from a DataFrame\n",
            "\n",
            "See the caveats in the documentation: https://pandas.pydata.org/pandas-docs/stable/user_guide/indexing.html#returning-a-view-versus-a-copy\n",
            "  errors=errors,\n",
            "/usr/local/lib/python3.7/dist-packages/ipykernel_launcher.py:3: SettingWithCopyWarning: \n",
            "A value is trying to be set on a copy of a slice from a DataFrame.\n",
            "Try using .loc[row_indexer,col_indexer] = value instead\n",
            "\n",
            "See the caveats in the documentation: https://pandas.pydata.org/pandas-docs/stable/user_guide/indexing.html#returning-a-view-versus-a-copy\n",
            "  This is separate from the ipykernel package so we can avoid doing imports until\n",
            "/usr/local/lib/python3.7/dist-packages/pandas/core/indexing.py:1734: SettingWithCopyWarning: \n",
            "A value is trying to be set on a copy of a slice from a DataFrame.\n",
            "Try using .loc[row_indexer,col_indexer] = value instead\n",
            "\n",
            "See the caveats in the documentation: https://pandas.pydata.org/pandas-docs/stable/user_guide/indexing.html#returning-a-view-versus-a-copy\n",
            "  isetter(loc, value[:, i].tolist())\n"
          ],
          "name": "stderr"
        },
        {
          "output_type": "execute_result",
          "data": {
            "text/plain": [
              "<sklearn.metrics._plot.roc_curve.RocCurveDisplay at 0x7f9db39612d0>"
            ]
          },
          "metadata": {
            "tags": []
          },
          "execution_count": 46
        },
        {
          "output_type": "display_data",
          "data": {
            "image/png": "[encoded data removed]",
            "text/plain": [
              "<Figure size 432x288 with 1 Axes>"
            ]
          },
          "metadata": {
            "tags": [],
            "needs_background": "light"
          }
        }
      ]
    },
    {
      "cell_type": "markdown",
      "metadata": {
        "id": "bvas-1mqv2I4"
      },
      "source": [
        "The Bourough and Index of Multiple Deprevation seem to have little predictive value. So we'll settle on a model using the Month and Crime type."
      ]
    },
    {
      "cell_type": "code",
      "metadata": {
        "colab": {
          "base_uri": "https://localhost:8080/"
        },
        "id": "ON9t6OSbwJkL",
        "outputId": "ecc65b83-a05d-4f74-9704-222a4a2ca21a"
      },
      "source": [
        "predictors = ['Month', 'Crime type']\n",
        "catColumns = ['Month', 'Crime type']\n",
        "\n",
        "X = df_metro[predictors]\n",
        "categorise(X, catColumns)\n",
        "scale(X)\n",
        "Xtrain, Xtest, XVal, ytrain, ytest, yval = split(X, y)"
      ],
      "execution_count": 10,
      "outputs": [
        {
          "output_type": "stream",
          "text": [
            "/usr/local/lib/python3.7/dist-packages/pandas/core/frame.py:3069: SettingWithCopyWarning: \n",
            "A value is trying to be set on a copy of a slice from a DataFrame.\n",
            "Try using .loc[row_indexer,col_indexer] = value instead\n",
            "\n",
            "See the caveats in the documentation: https://pandas.pydata.org/pandas-docs/stable/user_guide/indexing.html#returning-a-view-versus-a-copy\n",
            "  self[k1] = value[k2]\n",
            "/usr/local/lib/python3.7/dist-packages/pandas/core/frame.py:4174: SettingWithCopyWarning: \n",
            "A value is trying to be set on a copy of a slice from a DataFrame\n",
            "\n",
            "See the caveats in the documentation: https://pandas.pydata.org/pandas-docs/stable/user_guide/indexing.html#returning-a-view-versus-a-copy\n",
            "  errors=errors,\n"
          ],
          "name": "stderr"
        }
      ]
    },
    {
      "cell_type": "markdown",
      "metadata": {
        "id": "Nxe6Ca1C9x42"
      },
      "source": [
        "Grid search Logistic regression parameters"
      ]
    },
    {
      "cell_type": "code",
      "metadata": {
        "colab": {
          "base_uri": "https://localhost:8080/"
        },
        "id": "qiw3tZUmKdh9",
        "outputId": "cffdc888-3f87-4112-e357-c8b7ac34e87d"
      },
      "source": [
        "# define models and parameters\n",
        "model = LogisticRegression()\n",
        "solvers = ['newton-cg', 'lbfgs', 'liblinear']\n",
        "penalty = ['l2']\n",
        "c_values = [100, 10, 1.0, 0.1, 0.01]\n",
        "\n",
        "\n",
        "# define grid search\n",
        "grid = dict(solver=solvers,penalty=penalty,C=c_values)\n",
        "cv = RepeatedStratifiedKFold(n_splits=10, n_repeats=3, random_state=1)\n",
        "grid_search = GridSearchCV(estimator=model, param_grid=grid, n_jobs=-1, cv=cv, scoring='roc_auc',error_score=0)\n",
        "grid_result = grid_search.fit(Xtrain, ytrain)\n",
        "\n",
        "\n",
        "# summarize results\n",
        "print(\"Best: %f using %s\" % (grid_result.best_score_, grid_result.best_params_))\n",
        "means = grid_result.cv_results_['mean_test_score']\n",
        "stds = grid_result.cv_results_['std_test_score']\n",
        "params = grid_result.cv_results_['params']\n",
        "for mean, stdev, param in zip(means, stds, params):\n",
        "    print(\"%f (%f) with: %r\" % (mean, stdev, param))"
      ],
      "execution_count": 60,
      "outputs": [
        {
          "output_type": "stream",
          "text": [
            "Best: 0.816878 using {'C': 1.0, 'penalty': 'l2', 'solver': 'liblinear'}\n",
            "0.816875 (0.001991) with: {'C': 100, 'penalty': 'l2', 'solver': 'newton-cg'}\n",
            "0.816875 (0.001991) with: {'C': 100, 'penalty': 'l2', 'solver': 'lbfgs'}\n",
            "0.816876 (0.001991) with: {'C': 100, 'penalty': 'l2', 'solver': 'liblinear'}\n",
            "0.816875 (0.001991) with: {'C': 10, 'penalty': 'l2', 'solver': 'newton-cg'}\n",
            "0.816876 (0.001991) with: {'C': 10, 'penalty': 'l2', 'solver': 'lbfgs'}\n",
            "0.816876 (0.001991) with: {'C': 10, 'penalty': 'l2', 'solver': 'liblinear'}\n",
            "0.816877 (0.001992) with: {'C': 1.0, 'penalty': 'l2', 'solver': 'newton-cg'}\n",
            "0.816878 (0.001991) with: {'C': 1.0, 'penalty': 'l2', 'solver': 'lbfgs'}\n",
            "0.816878 (0.001992) with: {'C': 1.0, 'penalty': 'l2', 'solver': 'liblinear'}\n",
            "0.816870 (0.001997) with: {'C': 0.1, 'penalty': 'l2', 'solver': 'newton-cg'}\n",
            "0.816871 (0.001997) with: {'C': 0.1, 'penalty': 'l2', 'solver': 'lbfgs'}\n",
            "0.816873 (0.001997) with: {'C': 0.1, 'penalty': 'l2', 'solver': 'liblinear'}\n",
            "0.815759 (0.002005) with: {'C': 0.01, 'penalty': 'l2', 'solver': 'newton-cg'}\n",
            "0.815759 (0.002006) with: {'C': 0.01, 'penalty': 'l2', 'solver': 'lbfgs'}\n",
            "0.815750 (0.002006) with: {'C': 0.01, 'penalty': 'l2', 'solver': 'liblinear'}\n"
          ],
          "name": "stdout"
        }
      ]
    },
    {
      "cell_type": "markdown",
      "metadata": {
        "id": "fKA3-BkQ4Qar"
      },
      "source": [
        "The hyperparameter tuning doesn't enhance the model more that the baseline, let's try a Decision Tree instead."
      ]
    },
    {
      "cell_type": "markdown",
      "metadata": {
        "id": "c-LVaTjXZnJa"
      },
      "source": [
        "Create new train test for Decision Tree model"
      ]
    },
    {
      "cell_type": "code",
      "metadata": {
        "id": "7wy2rvOy21D0"
      },
      "source": [
        "model_T = DecisionTreeClassifier()"
      ],
      "execution_count": 6,
      "outputs": []
    },
    {
      "cell_type": "code",
      "metadata": {
        "colab": {
          "base_uri": "https://localhost:8080/"
        },
        "id": "DIZMrPvN3r5p",
        "outputId": "d1c12a62-7295-4c57-9f99-198212bcd3d7"
      },
      "source": [
        "model_T.fit(Xtrain, ytrain)"
      ],
      "execution_count": 7,
      "outputs": [
        {
          "output_type": "execute_result",
          "data": {
            "text/plain": [
              "DecisionTreeClassifier(ccp_alpha=0.0, class_weight=None, criterion='gini',\n",
              "                       max_depth=None, max_features=None, max_leaf_nodes=None,\n",
              "                       min_impurity_decrease=0.0, min_impurity_split=None,\n",
              "                       min_samples_leaf=1, min_samples_split=2,\n",
              "                       min_weight_fraction_leaf=0.0, presort='deprecated',\n",
              "                       random_state=None, splitter='best')"
            ]
          },
          "metadata": {
            "tags": []
          },
          "execution_count": 7
        }
      ]
    },
    {
      "cell_type": "code",
      "metadata": {
        "colab": {
          "base_uri": "https://localhost:8080/",
          "height": 558
        },
        "id": "gEJ99gWz33EM",
        "outputId": "a145a58e-3c9c-45f5-a2f6-e392d799ff93"
      },
      "source": [
        "plot_roc_curve(model_T, XVal, yval)\n",
        "plot_confusion_matrix(model_T, XVal, yval)"
      ],
      "execution_count": 8,
      "outputs": [
        {
          "output_type": "execute_result",
          "data": {
            "text/plain": [
              "<sklearn.metrics._plot.confusion_matrix.ConfusionMatrixDisplay at 0x7f9db5dca9d0>"
            ]
          },
          "metadata": {
            "tags": []
          },
          "execution_count": 8
        },
        {
          "output_type": "display_data",
          "data": {
            "image/png": "[encoded data removed]",
            "text/plain": [
              "<Figure size 432x288 with 1 Axes>"
            ]
          },
          "metadata": {
            "tags": [],
            "needs_background": "light"
          }
        },
        {
          "output_type": "display_data",
          "data": {
            "image/png": "[encoded data removed]",
            "text/plain": [
              "<Figure size 432x288 with 2 Axes>"
            ]
          },
          "metadata": {
            "tags": [],
            "needs_background": "light"
          }
        }
      ]
    },
    {
      "cell_type": "markdown",
      "metadata": {
        "id": "as1ZSZ455eTR"
      },
      "source": [
        "Worse than the Logistic regression, let's see if we can tune it to get a better model. It's also quite severely imbalanced so we'll try Under and Over sampling to even it out."
      ]
    },
    {
      "cell_type": "markdown",
      "metadata": {
        "id": "dzz1vsN8-Ri_"
      },
      "source": [
        "Grid search for Decision Tree"
      ]
    },
    {
      "cell_type": "code",
      "metadata": {
        "colab": {
          "base_uri": "https://localhost:8080/"
        },
        "id": "LUmOcnqHstEZ",
        "outputId": "a564a04b-c007-452f-e09a-26fc1d5c7990"
      },
      "source": [
        "import imblearn as imb\n",
        "from imblearn.under_sampling import RandomUnderSampler as RUS\n",
        "from imblearn.over_sampling import RandomOverSampler as ROS\n",
        "\n",
        "rus = RUS()\n",
        "ros = ROS()\n",
        "\n",
        "X_rus, y_rus = rus.fit_sample(X, y)\n",
        "X_ros, y_ros = ros.fit_sample(X, y)\n",
        "\n",
        "Xr_train, Xr_test, Xr_Val, yr_train, yr_test, yr_val = split(X_rus, y_rus)\n",
        "Xro_train, Xro_test, Xro_Val, yro_train, yro_test, yro_val = split(X_ros, y_ros)"
      ],
      "execution_count": 11,
      "outputs": [
        {
          "output_type": "stream",
          "text": [
            "/usr/local/lib/python3.7/dist-packages/sklearn/externals/six.py:31: FutureWarning: The module is deprecated in version 0.21 and will be removed in version 0.23 since we've dropped support for Python 2.7. Please rely on the official version of six (https://pypi.org/project/six/).\n",
            "  \"(https://pypi.org/project/six/).\", FutureWarning)\n",
            "/usr/local/lib/python3.7/dist-packages/sklearn/utils/deprecation.py:144: FutureWarning: The sklearn.neighbors.base module is  deprecated in version 0.22 and will be removed in version 0.24. The corresponding classes / functions should instead be imported from sklearn.neighbors. Anything that cannot be imported from sklearn.neighbors is now part of the private API.\n",
            "  warnings.warn(message, FutureWarning)\n",
            "/usr/local/lib/python3.7/dist-packages/sklearn/utils/deprecation.py:87: FutureWarning: Function safe_indexing is deprecated; safe_indexing is deprecated in version 0.22 and will be removed in version 0.24.\n",
            "  warnings.warn(msg, category=FutureWarning)\n",
            "/usr/local/lib/python3.7/dist-packages/sklearn/utils/deprecation.py:87: FutureWarning: Function safe_indexing is deprecated; safe_indexing is deprecated in version 0.22 and will be removed in version 0.24.\n",
            "  warnings.warn(msg, category=FutureWarning)\n"
          ],
          "name": "stderr"
        }
      ]
    },
    {
      "cell_type": "code",
      "metadata": {
        "id": "S4AIGHXNuD_l"
      },
      "source": [
        "model = DecisionTreeClassifier()\n",
        "model_u = model.fit(Xr_train, yr_train)\n",
        "model_o = model.fit(Xro_train, yro_train)"
      ],
      "execution_count": 54,
      "outputs": []
    },
    {
      "cell_type": "code",
      "metadata": {
        "colab": {
          "base_uri": "https://localhost:8080/",
          "height": 1000
        },
        "id": "doPXRDAfuM3S",
        "outputId": "fdfe7bc7-ca77-4af9-cd2e-7d263c3e298b"
      },
      "source": [
        "plot_roc_curve(model_u, Xr_Val, yr_val)\n",
        "plot_confusion_matrix(model_u, Xr_Val, yr_val)\n",
        "plot_roc_curve(model_o, Xro_Val, yro_val)\n",
        "plot_confusion_matrix(model_o, Xro_Val, yro_val)"
      ],
      "execution_count": 55,
      "outputs": [
        {
          "output_type": "execute_result",
          "data": {
            "text/plain": [
              "<sklearn.metrics._plot.confusion_matrix.ConfusionMatrixDisplay at 0x7f9db3be59d0>"
            ]
          },
          "metadata": {
            "tags": []
          },
          "execution_count": 55
        },
        {
          "output_type": "display_data",
          "data": {
            "image/png": "[encoded data removed]",
            "text/plain": [
              "<Figure size 432x288 with 1 Axes>"
            ]
          },
          "metadata": {
            "tags": [],
            "needs_background": "light"
          }
        },
        {
          "output_type": "display_data",
          "data": {
            "image/png": "[encoded data removed]",
            "text/plain": [
              "<Figure size 432x288 with 2 Axes>"
            ]
          },
          "metadata": {
            "tags": [],
            "needs_background": "light"
          }
        },
        {
          "output_type": "display_data",
          "data": {
            "image/png": "[encoded data removed]",
            "text/plain": [
              "<Figure size 432x288 with 1 Axes>"
            ]
          },
          "metadata": {
            "tags": [],
            "needs_background": "light"
          }
        },
        {
          "output_type": "display_data",
          "data": {
            "image/png": "[encoded data removed]",
            "text/plain": [
              "<Figure size 432x288 with 2 Axes>"
            ]
          },
          "metadata": {
            "tags": [],
            "needs_background": "light"
          }
        }
      ]
    },
    {
      "cell_type": "markdown",
      "metadata": {
        "id": "o8Qnvko_FD_b"
      },
      "source": [
        "Perf seems to be quite similar but as undersampling doesn't require us to synthetically create data we'll go with that."
      ]
    },
    {
      "cell_type": "code",
      "metadata": {
        "colab": {
          "base_uri": "https://localhost:8080/"
        },
        "id": "6g-jFzob8Ya7",
        "outputId": "e83836da-dcdc-4c1a-eeac-8bcda815fbf9"
      },
      "source": [
        "model = DecisionTreeClassifier()\n",
        "min_samples_leaf = [100, 1000, 10000]\n",
        "max_depth = [1 , 10, 100, 1000]\n",
        "\n",
        "#Best: 0.826418 using {'max_depth': 100, 'min_samples_leaf': 1000}\n",
        "\n",
        "\n",
        "# define grid search\n",
        "grid = dict(min_samples_leaf=min_samples_leaf,max_depth=max_depth)\n",
        "grid_search = GridSearchCV(estimator=model, param_grid=grid, n_jobs=-1, scoring='roc_auc',error_score=0)\n",
        "grid_result = grid_search.fit(Xr_train, yr_train)\n",
        "\n",
        "\n",
        "# summarize results\n",
        "print(\"Best: %f using %s\" % (grid_result.best_score_, grid_result.best_params_))\n",
        "means = grid_result.cv_results_['mean_test_score']\n",
        "stds = grid_result.cv_results_['std_test_score']\n",
        "params = grid_result.cv_results_['params']\n",
        "for mean, stdev, param in zip(means, stds, params):\n",
        "    print(\"%f (%f) with: %r\" % (mean, stdev, param))"
      ],
      "execution_count": 49,
      "outputs": [
        {
          "output_type": "stream",
          "text": [
            "Best: 0.823348 using {'max_depth': 100, 'min_samples_leaf': 100}\n",
            "0.613246 (0.001339) with: {'max_depth': 1, 'min_samples_leaf': 100}\n",
            "0.613246 (0.001339) with: {'max_depth': 1, 'min_samples_leaf': 1000}\n",
            "0.613246 (0.001339) with: {'max_depth': 1, 'min_samples_leaf': 10000}\n",
            "0.750380 (0.001721) with: {'max_depth': 10, 'min_samples_leaf': 100}\n",
            "0.750679 (0.001923) with: {'max_depth': 10, 'min_samples_leaf': 1000}\n",
            "0.723119 (0.001426) with: {'max_depth': 10, 'min_samples_leaf': 10000}\n",
            "0.823348 (0.000776) with: {'max_depth': 100, 'min_samples_leaf': 100}\n",
            "0.822098 (0.000365) with: {'max_depth': 100, 'min_samples_leaf': 1000}\n",
            "0.723119 (0.001426) with: {'max_depth': 100, 'min_samples_leaf': 10000}\n",
            "0.823348 (0.000776) with: {'max_depth': 1000, 'min_samples_leaf': 100}\n",
            "0.822098 (0.000365) with: {'max_depth': 1000, 'min_samples_leaf': 1000}\n",
            "0.723119 (0.001426) with: {'max_depth': 1000, 'min_samples_leaf': 10000}\n"
          ],
          "name": "stdout"
        }
      ]
    },
    {
      "cell_type": "markdown",
      "metadata": {
        "id": "KQu7_vlu6qLi"
      },
      "source": [
        "We found our optimal decision tree and it has a better performance than the Logistic Regression model so we'll use it as our final model."
      ]
    },
    {
      "cell_type": "markdown",
      "metadata": {
        "id": "xScgxJZ07jOE"
      },
      "source": [
        "Final model selection: Decision tree."
      ]
    },
    {
      "cell_type": "code",
      "metadata": {
        "colab": {
          "base_uri": "https://localhost:8080/"
        },
        "id": "d_n7f6k18LLv",
        "outputId": "e81156af-165c-4fa9-b191-558d9bff2109"
      },
      "source": [
        "model = DecisionTreeClassifier(max_depth=100, min_samples_leaf=1000)\n",
        "model.fit(Xr_train, yr_train)"
      ],
      "execution_count": 20,
      "outputs": [
        {
          "output_type": "execute_result",
          "data": {
            "text/plain": [
              "DecisionTreeClassifier(ccp_alpha=0.0, class_weight=None, criterion='gini',\n",
              "                       max_depth=100, max_features=None, max_leaf_nodes=None,\n",
              "                       min_impurity_decrease=0.0, min_impurity_split=None,\n",
              "                       min_samples_leaf=1000, min_samples_split=2,\n",
              "                       min_weight_fraction_leaf=0.0, presort='deprecated',\n",
              "                       random_state=None, splitter='best')"
            ]
          },
          "metadata": {
            "tags": []
          },
          "execution_count": 20
        }
      ]
    },
    {
      "cell_type": "code",
      "metadata": {
        "colab": {
          "base_uri": "https://localhost:8080/",
          "height": 1000
        },
        "id": "1uwidEJO-G5N",
        "outputId": "14917f20-c15e-4718-f9b3-ffd3c14e4e2e"
      },
      "source": [
        "plot_roc_curve(model, Xr_Val, yr_val)\n",
        "plot_confusion_matrix(model, Xr_Val, yr_val)\n",
        "plot_roc_curve(model, Xr_test, yr_test)\n",
        "plot_confusion_matrix(model, Xr_test, yr_test)"
      ],
      "execution_count": 22,
      "outputs": [
        {
          "output_type": "execute_result",
          "data": {
            "text/plain": [
              "<sklearn.metrics._plot.confusion_matrix.ConfusionMatrixDisplay at 0x7ff643297650>"
            ]
          },
          "metadata": {
            "tags": []
          },
          "execution_count": 22
        },
        {
          "output_type": "display_data",
          "data": {
            "image/png": "[encoded data removed]",
            "text/plain": [
              "<Figure size 432x288 with 1 Axes>"
            ]
          },
          "metadata": {
            "tags": [],
            "needs_background": "light"
          }
        },
        {
          "output_type": "display_data",
          "data": {
            "image/png": "[encoded data removed]",
            "text/plain": [
              "<Figure size 432x288 with 2 Axes>"
            ]
          },
          "metadata": {
            "tags": [],
            "needs_background": "light"
          }
        },
        {
          "output_type": "display_data",
          "data": {
            "image/png": "[encoded data removed]",
            "text/plain": [
              "<Figure size 432x288 with 1 Axes>"
            ]
          },
          "metadata": {
            "tags": [],
            "needs_background": "light"
          }
        },
        {
          "output_type": "display_data",
          "data": {
            "image/png": "[encoded data removed]",
            "text/plain": [
              "<Figure size 432x288 with 2 Axes>"
            ]
          },
          "metadata": {
            "tags": [],
            "needs_background": "light"
          }
        }
      ]
    },
    {
      "cell_type": "markdown",
      "metadata": {
        "id": "Rpx4KszeGAVh"
      },
      "source": [
        "Now that we have selected our model we need to select the threshold."
      ]
    },
    {
      "cell_type": "code",
      "metadata": {
        "colab": {
          "base_uri": "https://localhost:8080/"
        },
        "id": "4XNNo-0g-P0F",
        "outputId": "5ac13956-a98d-47d1-cba3-556a21cc07ad"
      },
      "source": [
        "probs = model.predict_proba(Xr_Val)[:,1]\n",
        "fp_rate, tp_rate, thresholds = roc_curve(yr_val, probs, pos_label='Positive')\n",
        "print(auc(fp_rate, tp_rate))\n",
        "print(roc_auc_score(yr_val, probs))\n"
      ],
      "execution_count": 59,
      "outputs": [
        {
          "output_type": "stream",
          "text": [
            "0.8271245169112407\n",
            "0.8271245169112407\n"
          ],
          "name": "stdout"
        }
      ]
    },
    {
      "cell_type": "code",
      "metadata": {
        "colab": {
          "base_uri": "https://localhost:8080/"
        },
        "id": "XPoDxPHLnzMT",
        "outputId": "e6e7f561-291b-48e9-9120-b64f8d2d8e30"
      },
      "source": [
        "#Write function to calculate Prevalence for each threshold.\n",
        "Prevalence = np.zeros(len(thresholds))\n",
        "for i in range(len(thresholds)):\n",
        "  Preds = probs > thresholds[i]\n",
        "  Prevalence[i] = np.count_nonzero(Preds == True)/len(Preds)\n",
        "\n",
        "# We'll put a higher importance on reducing False Negatives as otherwise we might ignore cases which have a higher likelyhood of success\n",
        "# We'll choose C_fp/C_fn = 0.8\n",
        "m = (1 - Prevalence)/(Prevalence) * 0.8\n",
        "m[m == np.inf] = 0"
      ],
      "execution_count": 89,
      "outputs": [
        {
          "output_type": "stream",
          "text": [
            "/usr/local/lib/python3.7/dist-packages/ipykernel_launcher.py:9: RuntimeWarning: divide by zero encountered in true_divide\n",
            "  if __name__ == '__main__':\n"
          ],
          "name": "stderr"
        }
      ]
    },
    {
      "cell_type": "code",
      "metadata": {
        "colab": {
          "base_uri": "https://localhost:8080/"
        },
        "id": "k_biHM0k-pPv",
        "outputId": "01119ebd-f0bd-4cf1-c973-a6625b3aac94"
      },
      "source": [
        "def fm(m, TPR, FPR):\n",
        "  return TPR - m*FPR\n",
        "\n",
        "threshold = thresholds[np.argmax(fm(m, tp_rate, fp_rate))]\n",
        "threshold\n",
        "# Calculated threshold too small -- manually choose larger one.\n"
      ],
      "execution_count": 92,
      "outputs": [
        {
          "output_type": "execute_result",
          "data": {
            "text/plain": [
              "0.056455571919489446"
            ]
          },
          "metadata": {
            "tags": []
          },
          "execution_count": 92
        }
      ]
    },
    {
      "cell_type": "code",
      "metadata": {
        "id": "eP9i0qUd7TYY"
      },
      "source": [
        "def predict_with_threshold(model, threshold, X):\n",
        "  probs = model.predict_proba(X)[:,1]\n",
        "  return probs > threshold\n",
        "\n",
        "predictions_val = predict_with_threshold(model, 0.2, Xr_Val)"
      ],
      "execution_count": 127,
      "outputs": []
    },
    {
      "cell_type": "code",
      "metadata": {
        "id": "30RyIn7IAY8z"
      },
      "source": [
        "labels = np.equal(yr_val, 'Positive')"
      ],
      "execution_count": 128,
      "outputs": []
    },
    {
      "cell_type": "code",
      "metadata": {
        "colab": {
          "base_uri": "https://localhost:8080/"
        },
        "id": "Tk501kSQArAl",
        "outputId": "100cb9da-8aab-46a4-aea9-21e9ffe73e91"
      },
      "source": [
        "np.equal(predictions_val, labels)"
      ],
      "execution_count": 129,
      "outputs": [
        {
          "output_type": "execute_result",
          "data": {
            "text/plain": [
              "array([ True,  True, False, ..., False,  True,  True])"
            ]
          },
          "metadata": {
            "tags": []
          },
          "execution_count": 129
        }
      ]
    },
    {
      "cell_type": "code",
      "metadata": {
        "colab": {
          "base_uri": "https://localhost:8080/"
        },
        "id": "yOkR-Y8QLQgl",
        "outputId": "cdae362b-770e-4fc2-f599-9c01ed07ea12"
      },
      "source": [
        "confusion_matrix(labels,predictions_val) # Plot this somehow"
      ],
      "execution_count": 130,
      "outputs": [
        {
          "output_type": "execute_result",
          "data": {
            "text/plain": [
              "array([[12421, 28578],\n",
              "       [ 1461, 39385]])"
            ]
          },
          "metadata": {
            "tags": []
          },
          "execution_count": 130
        }
      ]
    },
    {
      "cell_type": "code",
      "metadata": {
        "id": "BRo5Qw5YLQZt"
      },
      "source": [
        ""
      ],
      "execution_count": null,
      "outputs": []
    },
    {
      "cell_type": "code",
      "metadata": {
        "colab": {
          "base_uri": "https://localhost:8080/",
          "height": 391
        },
        "id": "pnvmWq86iwFm",
        "outputId": "13f87a3a-eb8c-4cee-e7f8-4d18894aa2d7"
      },
      "source": [
        "perm = PermutationImportance(model, random_state=1).fit(Xr_Val, yr_val)\n",
        "eli5.show_weights(perm, feature_names=XVal.columns.to_list())"
      ],
      "execution_count": 132,
      "outputs": [
        {
          "output_type": "execute_result",
          "data": {
            "text/html": [
              "\n",
              "    <style>\n",
              "    table.eli5-weights tr:hover {\n",
              "        filter: brightness(85%);\n",
              "    }\n",
              "</style>\n",
              "\n",
              "\n",
              "\n",
              "    \n",
              "\n",
              "    \n",
              "\n",
              "    \n",
              "\n",
              "    \n",
              "\n",
              "    \n",
              "\n",
              "    \n",
              "\n",
              "\n",
              "    \n",
              "\n",
              "    \n",
              "\n",
              "    \n",
              "\n",
              "    \n",
              "\n",
              "    \n",
              "\n",
              "    \n",
              "\n",
              "\n",
              "    \n",
              "\n",
              "    \n",
              "\n",
              "    \n",
              "\n",
              "    \n",
              "\n",
              "    \n",
              "        <table class=\"eli5-weights eli5-feature-importances\" style=\"border-collapse: collapse; border: none; margin-top: 0em; table-layout: auto;\">\n",
              "    <thead>\n",
              "    <tr style=\"border: none;\">\n",
              "        <th style=\"padding: 0 1em 0 0.5em; text-align: right; border: none;\">Weight</th>\n",
              "        <th style=\"padding: 0 0.5em 0 0.5em; text-align: left; border: none;\">Feature</th>\n",
              "    </tr>\n",
              "    </thead>\n",
              "    <tbody>\n",
              "    \n",
              "        <tr style=\"background-color: hsl(120, 100.00%, 80.00%); border: none;\">\n",
              "            <td style=\"padding: 0 1em 0 0.5em; text-align: right; border: none;\">\n",
              "                0.1145\n",
              "                \n",
              "                    &plusmn; 0.0016\n",
              "                \n",
              "            </td>\n",
              "            <td style=\"padding: 0 0.5em 0 0.5em; text-align: left; border: none;\">\n",
              "                Drugs\n",
              "            </td>\n",
              "        </tr>\n",
              "    \n",
              "        <tr style=\"background-color: hsl(120, 100.00%, 91.51%); border: none;\">\n",
              "            <td style=\"padding: 0 1em 0 0.5em; text-align: right; border: none;\">\n",
              "                0.0337\n",
              "                \n",
              "                    &plusmn; 0.0004\n",
              "                \n",
              "            </td>\n",
              "            <td style=\"padding: 0 0.5em 0 0.5em; text-align: left; border: none;\">\n",
              "                2020-03\n",
              "            </td>\n",
              "        </tr>\n",
              "    \n",
              "        <tr style=\"background-color: hsl(120, 100.00%, 92.01%); border: none;\">\n",
              "            <td style=\"padding: 0 1em 0 0.5em; text-align: right; border: none;\">\n",
              "                0.0309\n",
              "                \n",
              "                    &plusmn; 0.0007\n",
              "                \n",
              "            </td>\n",
              "            <td style=\"padding: 0 0.5em 0 0.5em; text-align: left; border: none;\">\n",
              "                2020-10\n",
              "            </td>\n",
              "        </tr>\n",
              "    \n",
              "        <tr style=\"background-color: hsl(120, 100.00%, 92.10%); border: none;\">\n",
              "            <td style=\"padding: 0 1em 0 0.5em; text-align: right; border: none;\">\n",
              "                0.0303\n",
              "                \n",
              "                    &plusmn; 0.0009\n",
              "                \n",
              "            </td>\n",
              "            <td style=\"padding: 0 0.5em 0 0.5em; text-align: left; border: none;\">\n",
              "                2020-08\n",
              "            </td>\n",
              "        </tr>\n",
              "    \n",
              "        <tr style=\"background-color: hsl(120, 100.00%, 92.15%); border: none;\">\n",
              "            <td style=\"padding: 0 1em 0 0.5em; text-align: right; border: none;\">\n",
              "                0.0301\n",
              "                \n",
              "                    &plusmn; 0.0011\n",
              "                \n",
              "            </td>\n",
              "            <td style=\"padding: 0 0.5em 0 0.5em; text-align: left; border: none;\">\n",
              "                2020-09\n",
              "            </td>\n",
              "        </tr>\n",
              "    \n",
              "        <tr style=\"background-color: hsl(120, 100.00%, 92.23%); border: none;\">\n",
              "            <td style=\"padding: 0 1em 0 0.5em; text-align: right; border: none;\">\n",
              "                0.0297\n",
              "                \n",
              "                    &plusmn; 0.0010\n",
              "                \n",
              "            </td>\n",
              "            <td style=\"padding: 0 0.5em 0 0.5em; text-align: left; border: none;\">\n",
              "                2020-07\n",
              "            </td>\n",
              "        </tr>\n",
              "    \n",
              "        <tr style=\"background-color: hsl(120, 100.00%, 92.76%); border: none;\">\n",
              "            <td style=\"padding: 0 1em 0 0.5em; text-align: right; border: none;\">\n",
              "                0.0268\n",
              "                \n",
              "                    &plusmn; 0.0017\n",
              "                \n",
              "            </td>\n",
              "            <td style=\"padding: 0 0.5em 0 0.5em; text-align: left; border: none;\">\n",
              "                2020-02\n",
              "            </td>\n",
              "        </tr>\n",
              "    \n",
              "        <tr style=\"background-color: hsl(120, 100.00%, 93.02%); border: none;\">\n",
              "            <td style=\"padding: 0 1em 0 0.5em; text-align: right; border: none;\">\n",
              "                0.0254\n",
              "                \n",
              "                    &plusmn; 0.0007\n",
              "                \n",
              "            </td>\n",
              "            <td style=\"padding: 0 0.5em 0 0.5em; text-align: left; border: none;\">\n",
              "                2020-06\n",
              "            </td>\n",
              "        </tr>\n",
              "    \n",
              "        <tr style=\"background-color: hsl(120, 100.00%, 93.22%); border: none;\">\n",
              "            <td style=\"padding: 0 1em 0 0.5em; text-align: right; border: none;\">\n",
              "                0.0244\n",
              "                \n",
              "                    &plusmn; 0.0004\n",
              "                \n",
              "            </td>\n",
              "            <td style=\"padding: 0 0.5em 0 0.5em; text-align: left; border: none;\">\n",
              "                2020-11\n",
              "            </td>\n",
              "        </tr>\n",
              "    \n",
              "        <tr style=\"background-color: hsl(120, 100.00%, 93.49%); border: none;\">\n",
              "            <td style=\"padding: 0 1em 0 0.5em; text-align: right; border: none;\">\n",
              "                0.0230\n",
              "                \n",
              "                    &plusmn; 0.0007\n",
              "                \n",
              "            </td>\n",
              "            <td style=\"padding: 0 0.5em 0 0.5em; text-align: left; border: none;\">\n",
              "                2020-05\n",
              "            </td>\n",
              "        </tr>\n",
              "    \n",
              "        <tr style=\"background-color: hsl(120, 100.00%, 93.79%); border: none;\">\n",
              "            <td style=\"padding: 0 1em 0 0.5em; text-align: right; border: none;\">\n",
              "                0.0215\n",
              "                \n",
              "                    &plusmn; 0.0007\n",
              "                \n",
              "            </td>\n",
              "            <td style=\"padding: 0 0.5em 0 0.5em; text-align: left; border: none;\">\n",
              "                2020-12\n",
              "            </td>\n",
              "        </tr>\n",
              "    \n",
              "        <tr style=\"background-color: hsl(120, 100.00%, 93.94%); border: none;\">\n",
              "            <td style=\"padding: 0 1em 0 0.5em; text-align: right; border: none;\">\n",
              "                0.0208\n",
              "                \n",
              "                    &plusmn; 0.0005\n",
              "                \n",
              "            </td>\n",
              "            <td style=\"padding: 0 0.5em 0 0.5em; text-align: left; border: none;\">\n",
              "                2020-04\n",
              "            </td>\n",
              "        </tr>\n",
              "    \n",
              "        <tr style=\"background-color: hsl(120, 100.00%, 94.92%); border: none;\">\n",
              "            <td style=\"padding: 0 1em 0 0.5em; text-align: right; border: none;\">\n",
              "                0.0162\n",
              "                \n",
              "                    &plusmn; 0.0021\n",
              "                \n",
              "            </td>\n",
              "            <td style=\"padding: 0 0.5em 0 0.5em; text-align: left; border: none;\">\n",
              "                Violence and sexual offences\n",
              "            </td>\n",
              "        </tr>\n",
              "    \n",
              "        <tr style=\"background-color: hsl(120, 100.00%, 96.68%); border: none;\">\n",
              "            <td style=\"padding: 0 1em 0 0.5em; text-align: right; border: none;\">\n",
              "                0.0088\n",
              "                \n",
              "                    &plusmn; 0.0005\n",
              "                \n",
              "            </td>\n",
              "            <td style=\"padding: 0 0.5em 0 0.5em; text-align: left; border: none;\">\n",
              "                Possession of weapons\n",
              "            </td>\n",
              "        </tr>\n",
              "    \n",
              "        <tr style=\"background-color: hsl(120, 100.00%, 97.31%); border: none;\">\n",
              "            <td style=\"padding: 0 1em 0 0.5em; text-align: right; border: none;\">\n",
              "                0.0065\n",
              "                \n",
              "                    &plusmn; 0.0006\n",
              "                \n",
              "            </td>\n",
              "            <td style=\"padding: 0 0.5em 0 0.5em; text-align: left; border: none;\">\n",
              "                Other crime\n",
              "            </td>\n",
              "        </tr>\n",
              "    \n",
              "        <tr style=\"background-color: hsl(120, 100.00%, 99.03%); border: none;\">\n",
              "            <td style=\"padding: 0 1em 0 0.5em; text-align: right; border: none;\">\n",
              "                0.0015\n",
              "                \n",
              "                    &plusmn; 0.0002\n",
              "                \n",
              "            </td>\n",
              "            <td style=\"padding: 0 0.5em 0 0.5em; text-align: left; border: none;\">\n",
              "                Public order\n",
              "            </td>\n",
              "        </tr>\n",
              "    \n",
              "        <tr style=\"background-color: hsl(0, 100.00%, 100.00%); border: none;\">\n",
              "            <td style=\"padding: 0 1em 0 0.5em; text-align: right; border: none;\">\n",
              "                0\n",
              "                \n",
              "                    &plusmn; 0.0000\n",
              "                \n",
              "            </td>\n",
              "            <td style=\"padding: 0 0.5em 0 0.5em; text-align: left; border: none;\">\n",
              "                Vehicle crime\n",
              "            </td>\n",
              "        </tr>\n",
              "    \n",
              "        <tr style=\"background-color: hsl(0, 100.00%, 100.00%); border: none;\">\n",
              "            <td style=\"padding: 0 1em 0 0.5em; text-align: right; border: none;\">\n",
              "                0\n",
              "                \n",
              "                    &plusmn; 0.0000\n",
              "                \n",
              "            </td>\n",
              "            <td style=\"padding: 0 0.5em 0 0.5em; text-align: left; border: none;\">\n",
              "                Theft from the person\n",
              "            </td>\n",
              "        </tr>\n",
              "    \n",
              "        <tr style=\"background-color: hsl(0, 100.00%, 100.00%); border: none;\">\n",
              "            <td style=\"padding: 0 1em 0 0.5em; text-align: right; border: none;\">\n",
              "                0\n",
              "                \n",
              "                    &plusmn; 0.0000\n",
              "                \n",
              "            </td>\n",
              "            <td style=\"padding: 0 0.5em 0 0.5em; text-align: left; border: none;\">\n",
              "                Burglary\n",
              "            </td>\n",
              "        </tr>\n",
              "    \n",
              "        <tr style=\"background-color: hsl(0, 100.00%, 100.00%); border: none;\">\n",
              "            <td style=\"padding: 0 1em 0 0.5em; text-align: right; border: none;\">\n",
              "                0\n",
              "                \n",
              "                    &plusmn; 0.0000\n",
              "                \n",
              "            </td>\n",
              "            <td style=\"padding: 0 0.5em 0 0.5em; text-align: left; border: none;\">\n",
              "                Criminal damage and arson\n",
              "            </td>\n",
              "        </tr>\n",
              "    \n",
              "    \n",
              "        \n",
              "            <tr style=\"background-color: hsl(0, 100.00%, 100.00%); border: none;\">\n",
              "                <td colspan=\"2\" style=\"padding: 0 0.5em 0 0.5em; text-align: center; border: none; white-space: nowrap;\">\n",
              "                    <i>&hellip; 3 more &hellip;</i>\n",
              "                </td>\n",
              "            </tr>\n",
              "        \n",
              "    \n",
              "    </tbody>\n",
              "</table>\n",
              "    \n",
              "\n",
              "    \n",
              "\n",
              "\n",
              "    \n",
              "\n",
              "    \n",
              "\n",
              "    \n",
              "\n",
              "    \n",
              "\n",
              "    \n",
              "\n",
              "    \n",
              "\n",
              "\n",
              "\n"
            ],
            "text/plain": [
              "<IPython.core.display.HTML object>"
            ]
          },
          "metadata": {
            "tags": []
          },
          "execution_count": 132
        }
      ]
    },
    {
      "cell_type": "code",
      "metadata": {
        "id": "wWQWf0OD8cvj"
      },
      "source": [
        "import matplotlib.pyplot as plt\n",
        "from sklearn.tree import export_graphviz\n",
        "import graphviz"
      ],
      "execution_count": 2,
      "outputs": []
    },
    {
      "cell_type": "code",
      "metadata": {
        "colab": {
          "base_uri": "https://localhost:8080/",
          "height": 35
        },
        "id": "Wt4G3rMdEGIc",
        "outputId": "5c7ae329-5ff5-4f2e-c93b-c7b143fae307"
      },
      "source": [
        "dot_data = export_graphviz(model, out_file=None,\n",
        "                                feature_names=X.columns,\n",
        "                                class_names=('Negative', 'Positive'),\n",
        "                                filled=True)\n",
        "graph = graphviz.Source(dot_data, format='png')\n",
        "graph.render()\n"
      ],
      "execution_count": 19,
      "outputs": [
        {
          "output_type": "execute_result",
          "data": {
            "application/vnd.google.colaboratory.intrinsic+json": {
              "type": "string"
            },
            "text/plain": [
              "'Source.gv.png'"
            ]
          },
          "metadata": {
            "tags": []
          },
          "execution_count": 19
        }
      ]
    },
    {
      "cell_type": "code",
      "metadata": {
        "id": "TSppvJad0rfv"
      },
      "source": [
        ""
      ],
      "execution_count": null,
      "outputs": []
    }
  ]
}